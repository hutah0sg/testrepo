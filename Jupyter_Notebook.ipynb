{
 "cells": [
  {
   "cell_type": "markdown",
   "metadata": {},
   "source": [
    "<center>\n",
    "    <img src=\"https://cf-courses-data.s3.us.cloud-object-storage.appdomain.cloud/IBMDeveloperSkillsNetwork-DS0105EN-SkillsNetwork/labs/Module2/images/SN_web_lightmode.png\" width=\"300\" alt=\"cognitiveclass.ai logo\"  />\n",
    "</center>\n"
   ]
  },
  {
   "cell_type": "markdown",
   "metadata": {
    "tags": []
   },
   "source": [
    "#### Add your code below following the instructions given in the course\n"
   ]
  },
  {
   "cell_type": "markdown",
   "metadata": {
    "tags": []
   },
   "source": [
    "# My Jupyter Notebook on IBM Watson Studio"
   ]
  },
  {
   "cell_type": "markdown",
   "metadata": {},
   "source": [
    "**Hans Hutany**\n",
    "\n",
    "\n",
    "Data Scientist"
   ]
  },
  {
   "cell_type": "markdown",
   "metadata": {},
   "source": [
    "*I am interested in data science because I believe that not only I can open a new path to a good career with it, but I can also use it to solve a lot of questions or problems that I will face in my life in the future.*"
   ]
  },
  {
   "cell_type": "markdown",
   "metadata": {},
   "source": [
    "### The below should print '7'"
   ]
  },
  {
   "cell_type": "code",
   "execution_count": 3,
   "metadata": {},
   "outputs": [
    {
     "data": {
      "text/plain": [
       "7"
      ]
     },
     "execution_count": 3,
     "metadata": {},
     "output_type": "execute_result"
    }
   ],
   "source": [
    "1 + 2 * 3"
   ]
  },
  {
   "cell_type": "markdown",
   "metadata": {},
   "source": [
    "#### Below are example of ordered and unordered list:\n",
    "---------------------------\n",
    "\n",
    "Three examples of fruits are:\n",
    "1. [Apple](https://www.istockphoto.com/photos/apple)\n",
    "2. [Banana](https://www.istockphoto.com/search/2/image?phrase=banana)\n",
    "3. [Mango](https://www.istockphoto.com/search/2/image?phrase=mango)\n",
    "\n",
    "</BR>\n",
    "\n",
    "Three examples of Thai cuisine are:\n",
    "* [*Tom Yum Goong* (Spicy Shrim Soup)](https://www.istockphoto.com/search/2/image?phrase=tom+yum+soup)\n",
    "* [*Som Tum* (Spicy Green Papaya Salad)](https://www.istockphoto.com/search/2/image?phrase=som%20tum)\n",
    "* [*Tom Kha Kai* (Chicken in Coconut Soup)](https://www.istockphoto.com/search/2/image?phrase=tom%20ka%20khai)\n"
   ]
  }
 ],
 "metadata": {
  "kernelspec": {
   "display_name": "Python",
   "language": "python",
   "name": "conda-env-python-py"
  },
  "language_info": {
   "codemirror_mode": {
    "name": "ipython",
    "version": 3
   },
   "file_extension": ".py",
   "mimetype": "text/x-python",
   "name": "python",
   "nbconvert_exporter": "python",
   "pygments_lexer": "ipython3",
   "version": "3.7.12"
  }
 },
 "nbformat": 4,
 "nbformat_minor": 4
}
